{
 "cells": [
  {
   "cell_type": "markdown",
   "id": "0",
   "metadata": {
    "jp-MarkdownHeadingCollapsed": true,
    "tags": []
   },
   "source": [
    "<img src=\"_images/localbip_logo.png\" alt=\"biplot_logo\" style=\"width: 150px;\"/> \n",
    "\n",
    "# Manual Técnico Software\n",
    "\n",
    "\n",
    "## Localbiplot - Biblioteca de código abierto para el análisis de datos de alta dimensión utilizando biplots por localidades, como soporte a aplicaciones de agricultura de precisión\n",
    "\n"
   ]
  },
  {
   "cell_type": "markdown",
   "id": "037fcc5b-c86b-4680-b210-c956bf0ee033",
   "metadata": {},
   "source": [
    "### 1. Descripción general del sistema de información desarrollado\n",
    "\n",
    "La biblioteca de código abierto desarrollada en Python para el análisis de datos de alta dimensión utilizando biplots por localidades (Localbiplot), como soporte a aplicaciones de agricultura de precisión, consiste en un conjunto de módulos diseñados para realizar un análisis basado en una extensión del biplot mediante la descomposición de Valores Singulares (SVD) a nivel de localidades. Su objetivo es resaltar, analizar e identificar patrones en subgrupos específicos de datos no estacionarios, utilizando relaciones tanto lineales como no lineales. Esto permite visualizar las relaciones entre muestras y variables en los diferentes conjuntos de ejes generados. La herramienta consta de varios módulos que se encargan de lo siguiente: i) Normalizar y centralizar datos; ii) Obtener representaciones de baja dimensión lineales (SVD) y no lineales (t-SNE) a nivel de todo el conjunto de datos; iii) Realizar análisis de subconjuntos de datos de alta y baja dimensión (clusters), basado en una variable específica del conjunto. Luego, se calcula el SVD local en cada grupo para obtener las matrices biplot; iv) Aplicar transformaciones afines con los parámetros que mejor escalan, traducen y rotan cada uno de los múltiples conjuntos de ejes generados para cada subespacio de los datos agrupados.\n",
    "\n"
   ]
  },
  {
   "cell_type": "markdown",
   "id": "32184c76-d875-4803-b697-7b1184d50a72",
   "metadata": {},
   "source": [
    "### 2. Requerimientos técnicos a nivel de hardware y software para instalar y operar el software desarrollado\n",
    "\n",
    "\n",
    "\n",
    "localbiplot necesita Python >= 3.8  y acceso a internet para descargar las librerias\n",
    "\n",
    "2.1 Instalar desde el código fuente"
   ]
  },
  {
   "cell_type": "code",
   "execution_count": 4,
   "id": "88e3c584-7680-4ee9-8998-d7f477e3dec4",
   "metadata": {},
   "outputs": [],
   "source": [
    "!pip install -U git+https://github.com/Jectrianama/python-gcpds.localbiplot.git --quiet\n"
   ]
  },
  {
   "cell_type": "markdown",
   "id": "08e5eae8-61e2-4dc1-bca4-7fef0e4a3324",
   "metadata": {},
   "source": [
    "2.2 Añadir la librería  en su código como :"
   ]
  },
  {
   "cell_type": "code",
   "execution_count": 5,
   "id": "48ed0790-5a33-44ba-b758-21dd3346fd50",
   "metadata": {},
   "outputs": [],
   "source": [
    "import gcpds.localbiplot as lb"
   ]
  },
  {
   "cell_type": "markdown",
   "id": "fd53b012-ccdf-4ef4-aa9f-ad158629eefb",
   "metadata": {},
   "source": [
    "### 3. Entorno y/o Lenguaje de desarrollo utilizado\n",
    "\n",
    "La biblioteca local biplot esta desarrollado utilizando python 3.11. Ademas, el núcleo principal de este software se encuentra en librerias como matplotlib, y scipy, diseñadas  para manejar todo lo relacionado con graficas y manejo de estructuras de datos para asi amplíar las capacidades de la herramienta.\n",
    "\n",
    "\n"
   ]
  },
  {
   "cell_type": "markdown",
   "id": "7b0caf0b-559f-4acc-9ee8-9f33abeb2a46",
   "metadata": {},
   "source": [
    "### 4. Descripción de los diferentes programas (módulos) que hacen parte del sistema de información y su interrelación (teniendo en cuenta que un programa de computador puede estar compuesto de uno o varios módulos que cumplen funciones específicas)\n",
    "\n",
    "\n",
    "\n"
   ]
  },
  {
   "cell_type": "markdown",
   "id": "0cc134bf-b153-4702-8bc7-989e75ee18d3",
   "metadata": {},
   "source": [
    "### 5. Motores de bases de datos sobre los que fue desarrollado el sistema (en caso de que este basado en archivos planos se debe realizar una descripción de la forma como operan)."
   ]
  },
  {
   "cell_type": "markdown",
   "id": "009ad33e-539d-4052-8b6b-2e812ff02a32",
   "metadata": {
    "tags": []
   },
   "source": [
    "### 6. Diccionario de datos (descripción de las tablas, campos, tipos y tamaño de campos que la conforman, identificando llaves primarias y secundarias si es del caso)"
   ]
  },
  {
   "cell_type": "markdown",
   "id": "52373e4c-70cf-4c78-ac52-2fb6dfbc4d56",
   "metadata": {},
   "source": [
    "### 7. Diagrama entidad relación de las estructuras de datos o en su defecto estructura de funcionamiento e interacción del sistema de archivos"
   ]
  },
  {
   "cell_type": "markdown",
   "id": "e70f7331-4a0d-41ee-9a4c-9560b81bbd7c",
   "metadata": {},
   "source": [
    "### 8. Principales casos de uso"
   ]
  }
 ],
 "metadata": {
  "kernelspec": {
   "display_name": "Python 3 (ipykernel)",
   "language": "python",
   "name": "python3"
  },
  "language_info": {
   "codemirror_mode": {
    "name": "ipython",
    "version": 3
   },
   "file_extension": ".py",
   "mimetype": "text/x-python",
   "name": "python",
   "nbconvert_exporter": "python",
   "pygments_lexer": "ipython3",
   "version": "3.10.9"
  }
 },
 "nbformat": 4,
 "nbformat_minor": 5
}
