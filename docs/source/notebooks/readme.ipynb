{
 "cells": [
  {
   "cell_type": "markdown",
   "id": "0",
   "metadata": {
    "jp-MarkdownHeadingCollapsed": true,
    "tags": []
   },
   "source": [
    "<img src=\"_images/localbip_logo.png\" alt=\"biplot_logo\" style=\"width: 150px;\"/> \n",
    "\n",
    "\n",
    "\n",
    "\n",
    "## UMAP-Based Local Biplot"
   ]
  },
  {
   "cell_type": "markdown",
   "id": "037fcc5b-c86b-4680-b210-c956bf0ee033",
   "metadata": {},
   "source": [
    "Here, we introduce Local Biplot, a methodological framework tailored for discerning meaningful data patterns in non-stationary contexts for precision agriculture. Local Biplot relies on the well-known uniform manifold approximation and projection method, such as UMAP, and local affine transformations to codify non-stationary and non-linear data patterns while maintaining interpretability. This lets us find important clusters for transformation and projection within a single global axis pair. Hence, our framework encompasses variable and observational contributions within individual clusters. At the same time, we provide a relevance analysis strategy to help explain why those clusters exist, facilitating the understanding of data dynamics while favoring interpretability.\n",
    "\n",
    "Please, if you use this code, cite this paper: [Crop Water Status Analysis from Complex Agricultural Data Using UMAP-Based Local Biplot](https://www.mdpi.com/2072-4292/16/15/2854)\n"
   ]
  },
  {
   "cell_type": "markdown",
   "id": "32184c76-d875-4803-b697-7b1184d50a72",
   "metadata": {},
   "source": [
    "### Requeriments\n",
    "\n",
    "\n",
    "\n",
    "localbiplot requires Python >= 3.8  and internet access to download the libraries\n",
    "\n",
    "Install from source code\n"
   ]
  },
  {
   "cell_type": "code",
   "execution_count": 4,
   "id": "88e3c584-7680-4ee9-8998-d7f477e3dec4",
   "metadata": {},
   "outputs": [],
   "source": [
    "!pip install -U git+https://github.com/Jectrianama/python-gcpds.localbiplot.git --quiet"
   ]
  },
  {
   "cell_type": "markdown",
   "id": "08e5eae8-61e2-4dc1-bca4-7fef0e4a3324",
   "metadata": {},
   "source": [
    "Add the library in your code as follows:"
   ]
  },
  {
   "cell_type": "code",
   "execution_count": 5,
   "id": "48ed0790-5a33-44ba-b758-21dd3346fd50",
   "metadata": {},
   "outputs": [],
   "source": [
    "import gcpds.localbiplot as lb"
   ]
  }
 ],
 "metadata": {
  "kernelspec": {
   "display_name": "Python 3 (ipykernel)",
   "language": "python",
   "name": "python3"
  },
  "language_info": {
   "codemirror_mode": {
    "name": "ipython",
    "version": 3
   },
   "file_extension": ".py",
   "mimetype": "text/x-python",
   "name": "python",
   "nbconvert_exporter": "python",
   "pygments_lexer": "ipython3",
   "version": "3.10.9"
  }
 },
 "nbformat": 4,
 "nbformat_minor": 5
}
