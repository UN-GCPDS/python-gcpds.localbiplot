{
 "cells": [
  {
   "cell_type": "markdown",
   "id": "da82f01a-ce2a-48f7-bae4-025ff61a936d",
   "metadata": {},
   "source": [
    "### 1. Descripción general de las funcionalidades que proporciona el aplicativo\n"
   ]
  },
  {
   "cell_type": "markdown",
   "id": "dd03daab-d73c-4054-aceb-0e2028af80ff",
   "metadata": {},
   "source": [
    "### 2. Proceso de instalación del aplicativo\n",
    "\n",
    "localbiplot necesita Python >= 3.8  y acceso a internet para descargar las librerias\n",
    "\n",
    "2.1 Instalar desde el código fuente"
   ]
  },
  {
   "cell_type": "code",
   "execution_count": 1,
   "id": "dd8c9fa2-64df-49e3-813c-9891ad050f2c",
   "metadata": {},
   "outputs": [],
   "source": [
    "!pip install -U git+https://github.com/Jectrianama/python-gcpds.localbiplot.git --quiet\n"
   ]
  },
  {
   "cell_type": "markdown",
   "id": "d22fc2d8-d079-4c01-aa6c-71f3da3929aa",
   "metadata": {},
   "source": [
    "2.2 Añadir la librería  en su código como :"
   ]
  },
  {
   "cell_type": "code",
   "execution_count": null,
   "id": "ed82cf54-bb8a-4e59-a1bb-de8ea08df4bc",
   "metadata": {},
   "outputs": [],
   "source": [
    "import gcpds.localbiplot as lb"
   ]
  },
  {
   "cell_type": "markdown",
   "id": "c1911897-8568-47e3-8319-5fdd1b8c6677",
   "metadata": {},
   "source": [
    "### 3. Aspectos a tener en cuenta al momento de usar el aplicativo.\n"
   ]
  },
  {
   "cell_type": "markdown",
   "id": "542d4396-b9c6-4c8d-a41e-d3cb6ecbbf08",
   "metadata": {},
   "source": [
    "### 4. Guía detallada del uso del aplicativo, siguiendo la secuencia de uso con imágenes que ubiquen al usuario frente a las interfaces de la aplicación."
   ]
  }
 ],
 "metadata": {
  "kernelspec": {
   "display_name": "Python 3 (ipykernel)",
   "language": "python",
   "name": "python3"
  },
  "language_info": {
   "codemirror_mode": {
    "name": "ipython",
    "version": 3
   },
   "file_extension": ".py",
   "mimetype": "text/x-python",
   "name": "python",
   "nbconvert_exporter": "python",
   "pygments_lexer": "ipython3",
   "version": "3.10.9"
  }
 },
 "nbformat": 4,
 "nbformat_minor": 5
}
