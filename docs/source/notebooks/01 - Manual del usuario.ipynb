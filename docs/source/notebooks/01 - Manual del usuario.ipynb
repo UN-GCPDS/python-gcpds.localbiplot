{
 "cells": [
{
   "cell_type": "markdown",
   "id": "ab678be8-d8d4-4ad5-b14c-f639054fb8b4",
   "metadata": {},
   "source": [
   "# User Manual\n",
    "\n",
    "\n",
    "## UMAP-Based Local Biplot\n",
    "\n"
   ]
  },
  {
   "cell_type": "markdown",
   "id": "da82f01a-ce2a-48f7-bae4-025ff61a936d",
   "metadata": {},
   "source": [
    "### 1. General description of the functionalities provided by the application\n"
   ]
  },
  {
   "cell_type": "markdown",
   "id": "dd03daab-d73c-4054-aceb-0e2028af80ff",
   "metadata": {},
   "source": [
    "### 2. Application installation process\n",
    "\n",
    "localbiplot requires Python >= 3.8 and internet access to download the libraries\n",
    "\n",
    "2.1 Install from source code"
   ]
  },
  {
   "cell_type": "code",
   "execution_count": 1,
   "id": "dd8c9fa2-64df-49e3-813c-9891ad050f2c",
   "metadata": {},
   "outputs": [],
   "source": [
    "!pip install -U git+https://github.com/Jectrianama/python-gcpds.localbiplot.git --quiet\n"
   ]
  },
  {
   "cell_type": "markdown",
   "id": "d22fc2d8-d079-4c01-aa6c-71f3da3929aa",
   "metadata": {},
   "source": [
    "Add the library in your code as follows:"
   ]
  },
  {
   "cell_type": "code",
   "execution_count": null,
   "id": "ed82cf54-bb8a-4e59-a1bb-de8ea08df4bc",
   "metadata": {},
   "outputs": [],
   "source": [
    "import gcpds.localbiplot as lb"
   ]
  },
  {
   "cell_type": "markdown",
   "id": "c1911897-8568-47e3-8319-5fdd1b8c6677",
   "metadata": {},
   "source": [
    "### 3. Aspectos a tener en cuenta al momento de usar el aplicativo.\n"
   ]
  },
  {
   "cell_type": "markdown",
   "id": "542d4396-b9c6-4c8d-a41e-d3cb6ecbbf08",
   "metadata": {},
   "source": [
    "### 4. Guía detallada del uso del aplicativo, siguiendo la secuencia de uso con imágenes que ubiquen al usuario frente a las interfaces de la aplicación."
   ]
  }
 ],
 "metadata": {
  "kernelspec": {
   "display_name": "Python 3 (ipykernel)",
   "language": "python",
   "name": "python3"
  },
  "language_info": {
   "codemirror_mode": {
    "name": "ipython",
    "version": 3
   },
   "file_extension": ".py",
   "mimetype": "text/x-python",
   "name": "python",
   "nbconvert_exporter": "python",
   "pygments_lexer": "ipython3",
   "version": "3.10.9"
  }
 },
 "nbformat": 4,
 "nbformat_minor": 5
}
